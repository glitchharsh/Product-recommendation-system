{
 "cells": [
  {
   "cell_type": "markdown",
   "metadata": {},
   "source": [
    "### Import Libraries "
   ]
  },
  {
   "cell_type": "code",
   "execution_count": 16,
   "metadata": {},
   "outputs": [],
   "source": [
    "import pandas as pd\n",
    "import numpy as np\n",
    "import seaborn as sns\n",
    "\n",
    "import joblib\n",
    "\n",
    "from sklearn.feature_extraction.text import TfidfVectorizer\n",
    "from sklearn.metrics.pairwise import sigmoid_kernel\n",
    "\n",
    "import warnings\n",
    "warnings.filterwarnings('ignore')"
   ]
  },
  {
   "cell_type": "markdown",
   "metadata": {},
   "source": [
    "### Load the Dataset"
   ]
  },
  {
   "cell_type": "code",
   "execution_count": 17,
   "metadata": {},
   "outputs": [
    {
     "data": {
      "text/html": [
       "<div>\n",
       "<style scoped>\n",
       "    .dataframe tbody tr th:only-of-type {\n",
       "        vertical-align: middle;\n",
       "    }\n",
       "\n",
       "    .dataframe tbody tr th {\n",
       "        vertical-align: top;\n",
       "    }\n",
       "\n",
       "    .dataframe thead th {\n",
       "        text-align: right;\n",
       "    }\n",
       "</style>\n",
       "<table border=\"1\" class=\"dataframe\">\n",
       "  <thead>\n",
       "    <tr style=\"text-align: right;\">\n",
       "      <th></th>\n",
       "      <th>unique_id</th>\n",
       "      <th>product_name</th>\n",
       "      <th>product_id</th>\n",
       "      <th>description</th>\n",
       "    </tr>\n",
       "  </thead>\n",
       "  <tbody>\n",
       "    <tr>\n",
       "      <th>0</th>\n",
       "      <td>c2d766ca982eca8304150849735ffef9</td>\n",
       "      <td>Alisha Solid Women's Cycling Shorts</td>\n",
       "      <td>SRTEH2FF9KEDEFGF</td>\n",
       "      <td>Key Features of Alisha Solid Women's Cycling S...</td>\n",
       "    </tr>\n",
       "    <tr>\n",
       "      <th>1</th>\n",
       "      <td>7f7036a6d550aaa89d34c77bd39a5e48</td>\n",
       "      <td>FabHomeDecor Fabric Double Sofa Bed</td>\n",
       "      <td>SBEEH3QGU7MFYJFY</td>\n",
       "      <td>FabHomeDecor Fabric Double Sofa Bed (Finish Co...</td>\n",
       "    </tr>\n",
       "    <tr>\n",
       "      <th>2</th>\n",
       "      <td>f449ec65dcbc041b6ae5e6a32717d01b</td>\n",
       "      <td>AW Bellies</td>\n",
       "      <td>SHOEH4GRSUBJGZXE</td>\n",
       "      <td>Key Features of AW Bellies Sandals Wedges Heel...</td>\n",
       "    </tr>\n",
       "    <tr>\n",
       "      <th>3</th>\n",
       "      <td>0973b37acd0c664e3de26e97e5571454</td>\n",
       "      <td>Alisha Solid Women's Cycling Shorts</td>\n",
       "      <td>SRTEH2F6HUZMQ6SJ</td>\n",
       "      <td>Key Features of Alisha Solid Women's Cycling S...</td>\n",
       "    </tr>\n",
       "    <tr>\n",
       "      <th>4</th>\n",
       "      <td>bc940ea42ee6bef5ac7cea3fb5cfbee7</td>\n",
       "      <td>Sicons All Purpose Arnica Dog Shampoo</td>\n",
       "      <td>PSOEH3ZYDMSYARJ5</td>\n",
       "      <td>Specifications of Sicons All Purpose Arnica Do...</td>\n",
       "    </tr>\n",
       "  </tbody>\n",
       "</table>\n",
       "</div>"
      ],
      "text/plain": [
       "                          unique_id                           product_name  \\\n",
       "0  c2d766ca982eca8304150849735ffef9    Alisha Solid Women's Cycling Shorts   \n",
       "1  7f7036a6d550aaa89d34c77bd39a5e48    FabHomeDecor Fabric Double Sofa Bed   \n",
       "2  f449ec65dcbc041b6ae5e6a32717d01b                             AW Bellies   \n",
       "3  0973b37acd0c664e3de26e97e5571454    Alisha Solid Women's Cycling Shorts   \n",
       "4  bc940ea42ee6bef5ac7cea3fb5cfbee7  Sicons All Purpose Arnica Dog Shampoo   \n",
       "\n",
       "         product_id                                        description  \n",
       "0  SRTEH2FF9KEDEFGF  Key Features of Alisha Solid Women's Cycling S...  \n",
       "1  SBEEH3QGU7MFYJFY  FabHomeDecor Fabric Double Sofa Bed (Finish Co...  \n",
       "2  SHOEH4GRSUBJGZXE  Key Features of AW Bellies Sandals Wedges Heel...  \n",
       "3  SRTEH2F6HUZMQ6SJ  Key Features of Alisha Solid Women's Cycling S...  \n",
       "4  PSOEH3ZYDMSYARJ5  Specifications of Sicons All Purpose Arnica Do...  "
      ]
     },
     "execution_count": 17,
     "metadata": {},
     "output_type": "execute_result"
    }
   ],
   "source": [
    "data = products = pd.read_csv('Datasets/flipkart_com-ecommerce_sample.csv', usecols=[ 'uniq_id', 'product_name', 'pid', 'description'], encoding='utf8')\n",
    "data.columns = ['unique_id', 'product_name', 'product_id', 'description']\n",
    "data.head()"
   ]
  },
  {
   "cell_type": "markdown",
   "metadata": {},
   "source": [
    "### Data Statistics"
   ]
  },
  {
   "cell_type": "markdown",
   "metadata": {},
   "source": [
    "##### Handling Missing Data"
   ]
  },
  {
   "cell_type": "code",
   "execution_count": 18,
   "metadata": {},
   "outputs": [
    {
     "name": "stdout",
     "output_type": "stream",
     "text": [
      "Number of missing values across columns: \n",
      " unique_id       0\n",
      "product_name    0\n",
      "product_id      0\n",
      "description     2\n",
      "dtype: int64\n",
      "\n",
      "Number of missing values across columns: \n",
      " unique_id       0\n",
      "product_name    0\n",
      "product_id      0\n",
      "description     0\n",
      "dtype: int64\n"
     ]
    }
   ],
   "source": [
    "print('Number of missing values across columns: \\n', data.isnull().sum())\n",
    "\n",
    "data['description'] = data['description'].fillna('')\n",
    "print('\\nNumber of missing values across columns: \\n', data.isnull().sum())"
   ]
  },
  {
   "cell_type": "markdown",
   "metadata": {},
   "source": [
    "##### Truncating Data for training on local machine"
   ]
  },
  {
   "cell_type": "code",
   "execution_count": 19,
   "metadata": {},
   "outputs": [],
   "source": [
    "data = data.iloc[:5000]"
   ]
  },
  {
   "cell_type": "markdown",
   "metadata": {},
   "source": [
    "### Statistics"
   ]
  },
  {
   "cell_type": "code",
   "execution_count": 20,
   "metadata": {},
   "outputs": [
    {
     "name": "stdout",
     "output_type": "stream",
     "text": [
      "Total no of unique product names: 3396\n",
      "Total No of unique product ids: 5000\n"
     ]
    }
   ],
   "source": [
    "print(f\"Total no of unique product names: {len(data['product_name'].unique())}\")\n",
    "print(f\"Total No of unique product ids: {len(data['unique_id'].unique())}\")"
   ]
  },
  {
   "cell_type": "code",
   "execution_count": 21,
   "metadata": {},
   "outputs": [
    {
     "name": "stdout",
     "output_type": "stream",
     "text": [
      "Columns: 5000 \n",
      "Rows: 4\n"
     ]
    }
   ],
   "source": [
    "print(f'Columns: {data.shape[0]} \\nRows: {data.shape[1]}')"
   ]
  },
  {
   "cell_type": "code",
   "execution_count": 22,
   "metadata": {},
   "outputs": [
    {
     "name": "stdout",
     "output_type": "stream",
     "text": [
      "<class 'pandas.core.frame.DataFrame'>\n",
      "RangeIndex: 5000 entries, 0 to 4999\n",
      "Data columns (total 4 columns):\n",
      " #   Column        Non-Null Count  Dtype \n",
      "---  ------        --------------  ----- \n",
      " 0   unique_id     5000 non-null   object\n",
      " 1   product_name  5000 non-null   object\n",
      " 2   product_id    5000 non-null   object\n",
      " 3   description   5000 non-null   object\n",
      "dtypes: object(4)\n",
      "memory usage: 156.4+ KB\n"
     ]
    }
   ],
   "source": [
    "data.info()"
   ]
  },
  {
   "cell_type": "code",
   "execution_count": 23,
   "metadata": {},
   "outputs": [
    {
     "data": {
      "text/html": [
       "<div>\n",
       "<style scoped>\n",
       "    .dataframe tbody tr th:only-of-type {\n",
       "        vertical-align: middle;\n",
       "    }\n",
       "\n",
       "    .dataframe tbody tr th {\n",
       "        vertical-align: top;\n",
       "    }\n",
       "\n",
       "    .dataframe thead th {\n",
       "        text-align: right;\n",
       "    }\n",
       "</style>\n",
       "<table border=\"1\" class=\"dataframe\">\n",
       "  <thead>\n",
       "    <tr style=\"text-align: right;\">\n",
       "      <th></th>\n",
       "      <th>unique_id</th>\n",
       "      <th>product_name</th>\n",
       "      <th>product_id</th>\n",
       "      <th>description</th>\n",
       "    </tr>\n",
       "  </thead>\n",
       "  <tbody>\n",
       "    <tr>\n",
       "      <th>0</th>\n",
       "      <td>c2d766ca982eca8304150849735ffef9</td>\n",
       "      <td>Alisha Solid Women's Cycling Shorts</td>\n",
       "      <td>SRTEH2FF9KEDEFGF</td>\n",
       "      <td>Key Features of Alisha Solid Women's Cycling S...</td>\n",
       "    </tr>\n",
       "    <tr>\n",
       "      <th>1</th>\n",
       "      <td>7f7036a6d550aaa89d34c77bd39a5e48</td>\n",
       "      <td>FabHomeDecor Fabric Double Sofa Bed</td>\n",
       "      <td>SBEEH3QGU7MFYJFY</td>\n",
       "      <td>FabHomeDecor Fabric Double Sofa Bed (Finish Co...</td>\n",
       "    </tr>\n",
       "    <tr>\n",
       "      <th>2</th>\n",
       "      <td>f449ec65dcbc041b6ae5e6a32717d01b</td>\n",
       "      <td>AW Bellies</td>\n",
       "      <td>SHOEH4GRSUBJGZXE</td>\n",
       "      <td>Key Features of AW Bellies Sandals Wedges Heel...</td>\n",
       "    </tr>\n",
       "    <tr>\n",
       "      <th>3</th>\n",
       "      <td>0973b37acd0c664e3de26e97e5571454</td>\n",
       "      <td>Alisha Solid Women's Cycling Shorts</td>\n",
       "      <td>SRTEH2F6HUZMQ6SJ</td>\n",
       "      <td>Key Features of Alisha Solid Women's Cycling S...</td>\n",
       "    </tr>\n",
       "    <tr>\n",
       "      <th>4</th>\n",
       "      <td>bc940ea42ee6bef5ac7cea3fb5cfbee7</td>\n",
       "      <td>Sicons All Purpose Arnica Dog Shampoo</td>\n",
       "      <td>PSOEH3ZYDMSYARJ5</td>\n",
       "      <td>Specifications of Sicons All Purpose Arnica Do...</td>\n",
       "    </tr>\n",
       "  </tbody>\n",
       "</table>\n",
       "</div>"
      ],
      "text/plain": [
       "                          unique_id                           product_name  \\\n",
       "0  c2d766ca982eca8304150849735ffef9    Alisha Solid Women's Cycling Shorts   \n",
       "1  7f7036a6d550aaa89d34c77bd39a5e48    FabHomeDecor Fabric Double Sofa Bed   \n",
       "2  f449ec65dcbc041b6ae5e6a32717d01b                             AW Bellies   \n",
       "3  0973b37acd0c664e3de26e97e5571454    Alisha Solid Women's Cycling Shorts   \n",
       "4  bc940ea42ee6bef5ac7cea3fb5cfbee7  Sicons All Purpose Arnica Dog Shampoo   \n",
       "\n",
       "         product_id                                        description  \n",
       "0  SRTEH2FF9KEDEFGF  Key Features of Alisha Solid Women's Cycling S...  \n",
       "1  SBEEH3QGU7MFYJFY  FabHomeDecor Fabric Double Sofa Bed (Finish Co...  \n",
       "2  SHOEH4GRSUBJGZXE  Key Features of AW Bellies Sandals Wedges Heel...  \n",
       "3  SRTEH2F6HUZMQ6SJ  Key Features of Alisha Solid Women's Cycling S...  \n",
       "4  PSOEH3ZYDMSYARJ5  Specifications of Sicons All Purpose Arnica Do...  "
      ]
     },
     "execution_count": 23,
     "metadata": {},
     "output_type": "execute_result"
    }
   ],
   "source": [
    "data.head()"
   ]
  },
  {
   "cell_type": "markdown",
   "metadata": {},
   "source": [
    "### Content-Based Recommendation System"
   ]
  },
  {
   "cell_type": "markdown",
   "metadata": {},
   "source": [
    "##### Creating A TF-IDF Vector of tokens in the product descriptions"
   ]
  },
  {
   "cell_type": "code",
   "execution_count": 24,
   "metadata": {},
   "outputs": [
    {
     "data": {
      "text/plain": [
       "<5000x6377 sparse matrix of type '<class 'numpy.float64'>'\n",
       "\twith 343378 stored elements in Compressed Sparse Row format>"
      ]
     },
     "execution_count": 24,
     "metadata": {},
     "output_type": "execute_result"
    }
   ],
   "source": [
    "tfv = TfidfVectorizer(max_features=None,\n",
    "                     strip_accents='unicode',\n",
    "                     analyzer='word',\n",
    "                     min_df=10,\n",
    "                     token_pattern=r'\\w{1,}',\n",
    "                     ngram_range=(1,3),\n",
    "                     stop_words='english')\n",
    "tfidf_matrix = tfv.fit_transform(data['description'])\n",
    "tfidf_matrix"
   ]
  },
  {
   "cell_type": "code",
   "execution_count": 25,
   "metadata": {},
   "outputs": [
    {
     "data": {
      "text/plain": [
       "(5000, 6377)"
      ]
     },
     "execution_count": 25,
     "metadata": {},
     "output_type": "execute_result"
    }
   ],
   "source": [
    "tfidf_matrix.shape"
   ]
  },
  {
   "cell_type": "markdown",
   "metadata": {},
   "source": [
    "##### Transforming the vector into a decision model using Sigmoid"
   ]
  },
  {
   "cell_type": "code",
   "execution_count": 26,
   "metadata": {},
   "outputs": [
    {
     "data": {
      "text/plain": [
       "array([0.76166001, 0.76159583, 0.76159833, ..., 0.76159416, 0.76159416,\n",
       "       0.76159416])"
      ]
     },
     "execution_count": 26,
     "metadata": {},
     "output_type": "execute_result"
    }
   ],
   "source": [
    "sig = sigmoid_kernel(tfidf_matrix,tfidf_matrix)\n",
    "sig[0]"
   ]
  },
  {
   "cell_type": "markdown",
   "metadata": {},
   "source": [
    "##### Creating an index of products"
   ]
  },
  {
   "cell_type": "code",
   "execution_count": 27,
   "metadata": {},
   "outputs": [
    {
     "data": {
      "text/plain": [
       "product_name\n",
       "Alisha Solid Women's Cycling Shorts      0\n",
       "FabHomeDecor Fabric Double Sofa Bed      1\n",
       "AW Bellies                               2\n",
       "Alisha Solid Women's Cycling Shorts      3\n",
       "Sicons All Purpose Arnica Dog Shampoo    4\n",
       "dtype: int64"
      ]
     },
     "execution_count": 27,
     "metadata": {},
     "output_type": "execute_result"
    }
   ],
   "source": [
    "indices = pd.Series(data.index,index=data['product_name']).drop_duplicates()\n",
    "indices.head()"
   ]
  },
  {
   "cell_type": "markdown",
   "metadata": {},
   "source": [
    "##### Recommendation Function"
   ]
  },
  {
   "cell_type": "code",
   "execution_count": 28,
   "metadata": {},
   "outputs": [],
   "source": [
    "def product_recommendation(title,sig=sig):\n",
    "    indx = indices[title]\n",
    "    \n",
    "    #getting pairwise similarity scores\n",
    "    sig_scores = list(enumerate(sig[indx]))\n",
    "    \n",
    "    #sorting products\n",
    "    sig_scores = sorted(sig_scores, key=lambda x: x[1], reverse=True)\n",
    "    \n",
    "    #10 most similar products score\n",
    "    sig_scores = sig_scores[1:11]\n",
    "    \n",
    "    #product indexes\n",
    "    product_indices = [i[0] for i in sig_scores]\n",
    "    \n",
    "    return data.iloc[product_indices]"
   ]
  },
  {
   "cell_type": "markdown",
   "metadata": {},
   "source": [
    "##### Demonstration"
   ]
  },
  {
   "cell_type": "code",
   "execution_count": 29,
   "metadata": {},
   "outputs": [
    {
     "data": {
      "text/html": [
       "<div>\n",
       "<style scoped>\n",
       "    .dataframe tbody tr th:only-of-type {\n",
       "        vertical-align: middle;\n",
       "    }\n",
       "\n",
       "    .dataframe tbody tr th {\n",
       "        vertical-align: top;\n",
       "    }\n",
       "\n",
       "    .dataframe thead th {\n",
       "        text-align: right;\n",
       "    }\n",
       "</style>\n",
       "<table border=\"1\" class=\"dataframe\">\n",
       "  <thead>\n",
       "    <tr style=\"text-align: right;\">\n",
       "      <th></th>\n",
       "      <th>unique_id</th>\n",
       "      <th>product_name</th>\n",
       "      <th>product_id</th>\n",
       "      <th>description</th>\n",
       "    </tr>\n",
       "  </thead>\n",
       "  <tbody>\n",
       "    <tr>\n",
       "      <th>3180</th>\n",
       "      <td>4ef1dd0a04aec0f93e776cd9d55c3959</td>\n",
       "      <td>benext Regular Fit Boy's Red Trousers</td>\n",
       "      <td>TROEHYUVAJ6NBBAE</td>\n",
       "      <td>Specifications of benext Regular Fit Boy's Red...</td>\n",
       "    </tr>\n",
       "    <tr>\n",
       "      <th>3143</th>\n",
       "      <td>7befb5ea4ef6ad9574c4eb3363d192e8</td>\n",
       "      <td>LUMBER BOY Printed Boy's Hooded Reversible Gre...</td>\n",
       "      <td>TSHEG57GACSGRQGM</td>\n",
       "      <td>Specifications of LUMBER BOY Printed Boy's Hoo...</td>\n",
       "    </tr>\n",
       "    <tr>\n",
       "      <th>3112</th>\n",
       "      <td>e5bfe986e0c734f596009871b48a4673</td>\n",
       "      <td>YK Solid Boy's Round Neck Dark Blue T-Shirt</td>\n",
       "      <td>TSHEGEXDHEZVCAMT</td>\n",
       "      <td>Specifications of YK Solid Boy's Round Neck Da...</td>\n",
       "    </tr>\n",
       "    <tr>\n",
       "      <th>352</th>\n",
       "      <td>9d011a8574d1c477659be03fafa6bd25</td>\n",
       "      <td>Nine Maternity Wear Women's Fit and Flare Dress</td>\n",
       "      <td>DREEEYGRYGXYB9BU</td>\n",
       "      <td>Key Features of Nine Maternity Wear Women's Fi...</td>\n",
       "    </tr>\n",
       "    <tr>\n",
       "      <th>3118</th>\n",
       "      <td>606d65f980cb8724569f3f7b74747d43</td>\n",
       "      <td>VRTYA Casual Sleeveless Solid Women's Blue Top</td>\n",
       "      <td>TOPEHZMKMYHYGQ9S</td>\n",
       "      <td>Specifications of VRTYA Casual Sleeveless Soli...</td>\n",
       "    </tr>\n",
       "    <tr>\n",
       "      <th>3184</th>\n",
       "      <td>69fee308e78fbaf41b2f4c468c24f042</td>\n",
       "      <td>LUMBER BOY Self Design Boy's Polo Neck Blue, R...</td>\n",
       "      <td>TSHEG57TG27P9EZM</td>\n",
       "      <td>Specifications of LUMBER BOY Self Design Boy's...</td>\n",
       "    </tr>\n",
       "    <tr>\n",
       "      <th>3131</th>\n",
       "      <td>438c3e7b293c01a07d787db0eaff9efa</td>\n",
       "      <td>Lilliput Regular Fit Boy's Brown Trousers</td>\n",
       "      <td>TROEHGFYZTGCAUM9</td>\n",
       "      <td>Specifications of Lilliput Regular Fit Boy's B...</td>\n",
       "    </tr>\n",
       "    <tr>\n",
       "      <th>3139</th>\n",
       "      <td>5d37093da0d61073db682d36cac53128</td>\n",
       "      <td>LUMBER BOY Self Design Boy's Polo Neck Red, Wh...</td>\n",
       "      <td>TSHEG57QP6AKHGDK</td>\n",
       "      <td>Specifications of LUMBER BOY Self Design Boy's...</td>\n",
       "    </tr>\n",
       "    <tr>\n",
       "      <th>3182</th>\n",
       "      <td>7308f94c231023ac2897a7157c72c990</td>\n",
       "      <td>VRTYA Casual Sleeveless Solid Women's Red Top</td>\n",
       "      <td>TOPEHZMHJHEMRDHY</td>\n",
       "      <td>Specifications of VRTYA Casual Sleeveless Soli...</td>\n",
       "    </tr>\n",
       "    <tr>\n",
       "      <th>3111</th>\n",
       "      <td>2c28ce18e078b4c6b724452494506a3a</td>\n",
       "      <td>BIKER BOYS Printed Boy's Round Neck Blue T-Shirt</td>\n",
       "      <td>TSHEGCZTUAZAYE7G</td>\n",
       "      <td>Specifications of BIKER BOYS Printed Boy's Rou...</td>\n",
       "    </tr>\n",
       "  </tbody>\n",
       "</table>\n",
       "</div>"
      ],
      "text/plain": [
       "                             unique_id  \\\n",
       "3180  4ef1dd0a04aec0f93e776cd9d55c3959   \n",
       "3143  7befb5ea4ef6ad9574c4eb3363d192e8   \n",
       "3112  e5bfe986e0c734f596009871b48a4673   \n",
       "352   9d011a8574d1c477659be03fafa6bd25   \n",
       "3118  606d65f980cb8724569f3f7b74747d43   \n",
       "3184  69fee308e78fbaf41b2f4c468c24f042   \n",
       "3131  438c3e7b293c01a07d787db0eaff9efa   \n",
       "3139  5d37093da0d61073db682d36cac53128   \n",
       "3182  7308f94c231023ac2897a7157c72c990   \n",
       "3111  2c28ce18e078b4c6b724452494506a3a   \n",
       "\n",
       "                                           product_name        product_id  \\\n",
       "3180              benext Regular Fit Boy's Red Trousers  TROEHYUVAJ6NBBAE   \n",
       "3143  LUMBER BOY Printed Boy's Hooded Reversible Gre...  TSHEG57GACSGRQGM   \n",
       "3112        YK Solid Boy's Round Neck Dark Blue T-Shirt  TSHEGEXDHEZVCAMT   \n",
       "352     Nine Maternity Wear Women's Fit and Flare Dress  DREEEYGRYGXYB9BU   \n",
       "3118     VRTYA Casual Sleeveless Solid Women's Blue Top  TOPEHZMKMYHYGQ9S   \n",
       "3184  LUMBER BOY Self Design Boy's Polo Neck Blue, R...  TSHEG57TG27P9EZM   \n",
       "3131          Lilliput Regular Fit Boy's Brown Trousers  TROEHGFYZTGCAUM9   \n",
       "3139  LUMBER BOY Self Design Boy's Polo Neck Red, Wh...  TSHEG57QP6AKHGDK   \n",
       "3182      VRTYA Casual Sleeveless Solid Women's Red Top  TOPEHZMHJHEMRDHY   \n",
       "3111   BIKER BOYS Printed Boy's Round Neck Blue T-Shirt  TSHEGCZTUAZAYE7G   \n",
       "\n",
       "                                            description  \n",
       "3180  Specifications of benext Regular Fit Boy's Red...  \n",
       "3143  Specifications of LUMBER BOY Printed Boy's Hoo...  \n",
       "3112  Specifications of YK Solid Boy's Round Neck Da...  \n",
       "352   Key Features of Nine Maternity Wear Women's Fi...  \n",
       "3118  Specifications of VRTYA Casual Sleeveless Soli...  \n",
       "3184  Specifications of LUMBER BOY Self Design Boy's...  \n",
       "3131  Specifications of Lilliput Regular Fit Boy's B...  \n",
       "3139  Specifications of LUMBER BOY Self Design Boy's...  \n",
       "3182  Specifications of VRTYA Casual Sleeveless Soli...  \n",
       "3111  Specifications of BIKER BOYS Printed Boy's Rou...  "
      ]
     },
     "execution_count": 29,
     "metadata": {},
     "output_type": "execute_result"
    }
   ],
   "source": [
    "product_recommendation(\"Oye Boy's Dungaree\")"
   ]
  },
  {
   "cell_type": "markdown",
   "metadata": {},
   "source": [
    "#### Saving Correlation Matrix"
   ]
  },
  {
   "cell_type": "code",
   "execution_count": 30,
   "metadata": {},
   "outputs": [
    {
     "data": {
      "text/plain": [
       "['Outputs/Content Based Product Indices.csv']"
      ]
     },
     "execution_count": 30,
     "metadata": {},
     "output_type": "execute_result"
    }
   ],
   "source": [
    "joblib.dump(tfidf_matrix, 'Outputs/Content Based TFIDV Matrix.csv')\n",
    "joblib.dump(sig, 'Outputs/Content Based SIG.csv')\n",
    "joblib.dump(indices, 'Outputs/Content Based Product Indices.csv')"
   ]
  }
 ],
 "metadata": {
  "kernelspec": {
   "display_name": "env",
   "language": "python",
   "name": "python3"
  },
  "language_info": {
   "codemirror_mode": {
    "name": "ipython",
    "version": 3
   },
   "file_extension": ".py",
   "mimetype": "text/x-python",
   "name": "python",
   "nbconvert_exporter": "python",
   "pygments_lexer": "ipython3",
   "version": "3.9.13"
  },
  "orig_nbformat": 4
 },
 "nbformat": 4,
 "nbformat_minor": 2
}
