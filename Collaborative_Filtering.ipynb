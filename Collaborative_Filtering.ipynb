{
 "cells": [
  {
   "cell_type": "markdown",
   "metadata": {},
   "source": [
    "### Import Libraries "
   ]
  },
  {
   "cell_type": "code",
   "execution_count": 16,
   "metadata": {},
   "outputs": [],
   "source": [
    "import pandas as pd\n",
    "import numpy as np\n",
    "import seaborn as sns\n",
    "\n",
    "from sklearn.decomposition import TruncatedSVD\n",
    "\n",
    "import joblib\n",
    "\n",
    "import warnings\n",
    "warnings.filterwarnings('ignore')"
   ]
  },
  {
   "cell_type": "markdown",
   "metadata": {},
   "source": [
    "### Load the Dataset and Add headers"
   ]
  },
  {
   "cell_type": "code",
   "execution_count": 17,
   "metadata": {},
   "outputs": [
    {
     "data": {
      "text/html": [
       "<div>\n",
       "<style scoped>\n",
       "    .dataframe tbody tr th:only-of-type {\n",
       "        vertical-align: middle;\n",
       "    }\n",
       "\n",
       "    .dataframe tbody tr th {\n",
       "        vertical-align: top;\n",
       "    }\n",
       "\n",
       "    .dataframe thead th {\n",
       "        text-align: right;\n",
       "    }\n",
       "</style>\n",
       "<table border=\"1\" class=\"dataframe\">\n",
       "  <thead>\n",
       "    <tr style=\"text-align: right;\">\n",
       "      <th></th>\n",
       "      <th>product_name</th>\n",
       "      <th>product_id</th>\n",
       "      <th>rating</th>\n",
       "      <th>user</th>\n",
       "    </tr>\n",
       "  </thead>\n",
       "  <tbody>\n",
       "    <tr>\n",
       "      <th>0</th>\n",
       "      <td>AmazonBasics AAA Performance Alkaline Batterie...</td>\n",
       "      <td>B00QWO9P0O,B00LH3DMUO</td>\n",
       "      <td>3</td>\n",
       "      <td>Byger yang</td>\n",
       "    </tr>\n",
       "    <tr>\n",
       "      <th>1</th>\n",
       "      <td>AmazonBasics AAA Performance Alkaline Batterie...</td>\n",
       "      <td>B00QWO9P0O,B00LH3DMUO</td>\n",
       "      <td>4</td>\n",
       "      <td>ByMG</td>\n",
       "    </tr>\n",
       "    <tr>\n",
       "      <th>2</th>\n",
       "      <td>AmazonBasics AAA Performance Alkaline Batterie...</td>\n",
       "      <td>B00QWO9P0O,B00LH3DMUO</td>\n",
       "      <td>5</td>\n",
       "      <td>BySharon Lambert</td>\n",
       "    </tr>\n",
       "    <tr>\n",
       "      <th>3</th>\n",
       "      <td>AmazonBasics AAA Performance Alkaline Batterie...</td>\n",
       "      <td>B00QWO9P0O,B00LH3DMUO</td>\n",
       "      <td>5</td>\n",
       "      <td>Bymark sexson</td>\n",
       "    </tr>\n",
       "    <tr>\n",
       "      <th>4</th>\n",
       "      <td>AmazonBasics AAA Performance Alkaline Batterie...</td>\n",
       "      <td>B00QWO9P0O,B00LH3DMUO</td>\n",
       "      <td>5</td>\n",
       "      <td>Bylinda</td>\n",
       "    </tr>\n",
       "    <tr>\n",
       "      <th>...</th>\n",
       "      <td>...</td>\n",
       "      <td>...</td>\n",
       "      <td>...</td>\n",
       "      <td>...</td>\n",
       "    </tr>\n",
       "    <tr>\n",
       "      <th>28327</th>\n",
       "      <td>Fire HD 8 Tablet with Alexa, 8 HD Display, 16 ...</td>\n",
       "      <td>B018T075DC</td>\n",
       "      <td>5</td>\n",
       "      <td>Mom2twinsplus1</td>\n",
       "    </tr>\n",
       "    <tr>\n",
       "      <th>28328</th>\n",
       "      <td>Fire HD 8 Tablet with Alexa, 8 HD Display, 16 ...</td>\n",
       "      <td>B018T075DC</td>\n",
       "      <td>4</td>\n",
       "      <td>fireman21</td>\n",
       "    </tr>\n",
       "    <tr>\n",
       "      <th>28329</th>\n",
       "      <td>Fire HD 8 Tablet with Alexa, 8 HD Display, 16 ...</td>\n",
       "      <td>B018T075DC</td>\n",
       "      <td>5</td>\n",
       "      <td>suzannalicious</td>\n",
       "    </tr>\n",
       "    <tr>\n",
       "      <th>28330</th>\n",
       "      <td>Fire HD 8 Tablet with Alexa, 8 HD Display, 16 ...</td>\n",
       "      <td>B018T075DC</td>\n",
       "      <td>5</td>\n",
       "      <td>SandyJ</td>\n",
       "    </tr>\n",
       "    <tr>\n",
       "      <th>28331</th>\n",
       "      <td>Fire HD 8 Tablet with Alexa, 8 HD Display, 16 ...</td>\n",
       "      <td>B018T075DC</td>\n",
       "      <td>4</td>\n",
       "      <td>Hung</td>\n",
       "    </tr>\n",
       "  </tbody>\n",
       "</table>\n",
       "<p>28332 rows × 4 columns</p>\n",
       "</div>"
      ],
      "text/plain": [
       "                                            product_name  \\\n",
       "0      AmazonBasics AAA Performance Alkaline Batterie...   \n",
       "1      AmazonBasics AAA Performance Alkaline Batterie...   \n",
       "2      AmazonBasics AAA Performance Alkaline Batterie...   \n",
       "3      AmazonBasics AAA Performance Alkaline Batterie...   \n",
       "4      AmazonBasics AAA Performance Alkaline Batterie...   \n",
       "...                                                  ...   \n",
       "28327  Fire HD 8 Tablet with Alexa, 8 HD Display, 16 ...   \n",
       "28328  Fire HD 8 Tablet with Alexa, 8 HD Display, 16 ...   \n",
       "28329  Fire HD 8 Tablet with Alexa, 8 HD Display, 16 ...   \n",
       "28330  Fire HD 8 Tablet with Alexa, 8 HD Display, 16 ...   \n",
       "28331  Fire HD 8 Tablet with Alexa, 8 HD Display, 16 ...   \n",
       "\n",
       "                  product_id  rating              user  \n",
       "0      B00QWO9P0O,B00LH3DMUO       3        Byger yang  \n",
       "1      B00QWO9P0O,B00LH3DMUO       4              ByMG  \n",
       "2      B00QWO9P0O,B00LH3DMUO       5  BySharon Lambert  \n",
       "3      B00QWO9P0O,B00LH3DMUO       5     Bymark sexson  \n",
       "4      B00QWO9P0O,B00LH3DMUO       5           Bylinda  \n",
       "...                      ...     ...               ...  \n",
       "28327             B018T075DC       5    Mom2twinsplus1  \n",
       "28328             B018T075DC       4         fireman21  \n",
       "28329             B018T075DC       5    suzannalicious  \n",
       "28330             B018T075DC       5            SandyJ  \n",
       "28331             B018T075DC       4              Hung  \n",
       "\n",
       "[28332 rows x 4 columns]"
      ]
     },
     "execution_count": 17,
     "metadata": {},
     "output_type": "execute_result"
    }
   ],
   "source": [
    "data = pd.read_csv('Datasets/Datafiniti_Amazon_Consumer_Reviews_of_Amazon_Products_May19.csv', usecols=['name', 'asins', 'reviews.rating', 'reviews.username'], encoding='utf8')\n",
    "data.columns = ['product_name', 'product_id', 'rating', 'user']\n",
    "data"
   ]
  },
  {
   "cell_type": "markdown",
   "metadata": {},
   "source": [
    "### Data Statistics"
   ]
  },
  {
   "cell_type": "markdown",
   "metadata": {},
   "source": [
    "#### Handling Missing Data"
   ]
  },
  {
   "cell_type": "code",
   "execution_count": 18,
   "metadata": {},
   "outputs": [
    {
     "name": "stdout",
     "output_type": "stream",
     "text": [
      "Number of missing values across columns: \n",
      " product_name    0\n",
      "product_id      0\n",
      "rating          0\n",
      "user            5\n",
      "dtype: int64\n",
      "\n",
      "Number of missing values across columns: \n",
      " product_name    0\n",
      "product_id      0\n",
      "rating          0\n",
      "user            0\n",
      "dtype: int64\n"
     ]
    }
   ],
   "source": [
    "print('Number of missing values across columns: \\n', data.isnull().sum())\n",
    "\n",
    "data = data.dropna()\n",
    "print('\\nNumber of missing values across columns: \\n', data.isnull().sum())"
   ]
  },
  {
   "cell_type": "markdown",
   "metadata": {},
   "source": [
    "#### Statistics"
   ]
  },
  {
   "cell_type": "code",
   "execution_count": 19,
   "metadata": {},
   "outputs": [
    {
     "name": "stdout",
     "output_type": "stream",
     "text": [
      "Total no of ratings: 28327\n",
      "Total No of Users: 16268\n",
      "Total No of products: 65\n"
     ]
    }
   ],
   "source": [
    "print(f\"Total no of ratings: {data.shape[0]}\")\n",
    "print(f\"Total No of Users: {len(pd.unique(data.user))}\")\n",
    "print(f\"Total No of products: {len(pd.unique(data.product_id))}\")"
   ]
  },
  {
   "cell_type": "code",
   "execution_count": 20,
   "metadata": {},
   "outputs": [
    {
     "data": {
      "text/plain": [
       "count    28327.000000\n",
       "mean         4.514068\n",
       "std          0.934903\n",
       "min          1.000000\n",
       "25%          4.000000\n",
       "50%          5.000000\n",
       "75%          5.000000\n",
       "max          5.000000\n",
       "Name: rating, dtype: float64"
      ]
     },
     "execution_count": 20,
     "metadata": {},
     "output_type": "execute_result"
    }
   ],
   "source": [
    "data.describe()['rating'].T\n"
   ]
  },
  {
   "cell_type": "markdown",
   "metadata": {},
   "source": [
    "### Ratings Summary"
   ]
  },
  {
   "cell_type": "code",
   "execution_count": 21,
   "metadata": {},
   "outputs": [
    {
     "data": {
      "image/png": "[encoded data removed]",
      "text/plain": [
       "<Figure size 1000x500 with 1 Axes>"
      ]
     },
     "metadata": {},
     "output_type": "display_data"
    }
   ],
   "source": [
    "with sns.axes_style('white'):\n",
    "    g = sns.catplot(x=\"rating\", data=data, aspect=2.0,kind='count')\n",
    "    g.set_ylabels(\"Total number of ratings\")"
   ]
  },
  {
   "cell_type": "markdown",
   "metadata": {},
   "source": [
    "### Collaborative Filtering Recommendation System"
   ]
  },
  {
   "cell_type": "markdown",
   "metadata": {},
   "source": [
    "### Ratings Matrix"
   ]
  },
  {
   "cell_type": "code",
   "execution_count": 22,
   "metadata": {},
   "outputs": [
    {
     "data": {
      "text/html": [
       "<div>\n",
       "<style scoped>\n",
       "    .dataframe tbody tr th:only-of-type {\n",
       "        vertical-align: middle;\n",
       "    }\n",
       "\n",
       "    .dataframe tbody tr th {\n",
       "        vertical-align: top;\n",
       "    }\n",
       "\n",
       "    .dataframe thead th {\n",
       "        text-align: right;\n",
       "    }\n",
       "</style>\n",
       "<table border=\"1\" class=\"dataframe\">\n",
       "  <thead>\n",
       "    <tr style=\"text-align: right;\">\n",
       "      <th>user</th>\n",
       "      <th>000G</th>\n",
       "      <th>00Gambler</th>\n",
       "      <th>1000011</th>\n",
       "      <th>10100915</th>\n",
       "      <th>1029cr</th>\n",
       "      <th>1098</th>\n",
       "      <th>118001</th>\n",
       "      <th>1191946</th>\n",
       "      <th>11bee</th>\n",
       "      <th>1215</th>\n",
       "      <th>...</th>\n",
       "      <th>zRoyals</th>\n",
       "      <th>zackeemom</th>\n",
       "      <th>zane1222</th>\n",
       "      <th>zedog83</th>\n",
       "      <th>zeke</th>\n",
       "      <th>zerosky</th>\n",
       "      <th>zetyk</th>\n",
       "      <th>ziggy24</th>\n",
       "      <th>zmax192</th>\n",
       "      <th>ztlbxx</th>\n",
       "    </tr>\n",
       "    <tr>\n",
       "      <th>product_id</th>\n",
       "      <th></th>\n",
       "      <th></th>\n",
       "      <th></th>\n",
       "      <th></th>\n",
       "      <th></th>\n",
       "      <th></th>\n",
       "      <th></th>\n",
       "      <th></th>\n",
       "      <th></th>\n",
       "      <th></th>\n",
       "      <th></th>\n",
       "      <th></th>\n",
       "      <th></th>\n",
       "      <th></th>\n",
       "      <th></th>\n",
       "      <th></th>\n",
       "      <th></th>\n",
       "      <th></th>\n",
       "      <th></th>\n",
       "      <th></th>\n",
       "      <th></th>\n",
       "    </tr>\n",
       "  </thead>\n",
       "  <tbody>\n",
       "    <tr>\n",
       "      <th>B0002LCUZK,B010CEC6MI,B01B25NN64</th>\n",
       "      <td>0</td>\n",
       "      <td>0</td>\n",
       "      <td>0</td>\n",
       "      <td>0</td>\n",
       "      <td>0</td>\n",
       "      <td>0</td>\n",
       "      <td>0</td>\n",
       "      <td>0</td>\n",
       "      <td>0</td>\n",
       "      <td>0</td>\n",
       "      <td>...</td>\n",
       "      <td>0</td>\n",
       "      <td>0</td>\n",
       "      <td>0</td>\n",
       "      <td>0</td>\n",
       "      <td>0</td>\n",
       "      <td>0</td>\n",
       "      <td>0</td>\n",
       "      <td>0</td>\n",
       "      <td>0</td>\n",
       "      <td>0</td>\n",
       "    </tr>\n",
       "    <tr>\n",
       "      <th>B001NIZB5M</th>\n",
       "      <td>0</td>\n",
       "      <td>0</td>\n",
       "      <td>0</td>\n",
       "      <td>0</td>\n",
       "      <td>0</td>\n",
       "      <td>0</td>\n",
       "      <td>0</td>\n",
       "      <td>0</td>\n",
       "      <td>0</td>\n",
       "      <td>0</td>\n",
       "      <td>...</td>\n",
       "      <td>0</td>\n",
       "      <td>0</td>\n",
       "      <td>0</td>\n",
       "      <td>0</td>\n",
       "      <td>0</td>\n",
       "      <td>0</td>\n",
       "      <td>0</td>\n",
       "      <td>0</td>\n",
       "      <td>0</td>\n",
       "      <td>0</td>\n",
       "    </tr>\n",
       "    <tr>\n",
       "      <th>B005OOKNP4</th>\n",
       "      <td>0</td>\n",
       "      <td>0</td>\n",
       "      <td>0</td>\n",
       "      <td>0</td>\n",
       "      <td>0</td>\n",
       "      <td>0</td>\n",
       "      <td>0</td>\n",
       "      <td>0</td>\n",
       "      <td>0</td>\n",
       "      <td>0</td>\n",
       "      <td>...</td>\n",
       "      <td>0</td>\n",
       "      <td>0</td>\n",
       "      <td>0</td>\n",
       "      <td>0</td>\n",
       "      <td>0</td>\n",
       "      <td>0</td>\n",
       "      <td>0</td>\n",
       "      <td>0</td>\n",
       "      <td>0</td>\n",
       "      <td>0</td>\n",
       "    </tr>\n",
       "    <tr>\n",
       "      <th>B006BGZJJ4</th>\n",
       "      <td>0</td>\n",
       "      <td>0</td>\n",
       "      <td>0</td>\n",
       "      <td>0</td>\n",
       "      <td>0</td>\n",
       "      <td>0</td>\n",
       "      <td>0</td>\n",
       "      <td>0</td>\n",
       "      <td>0</td>\n",
       "      <td>0</td>\n",
       "      <td>...</td>\n",
       "      <td>0</td>\n",
       "      <td>0</td>\n",
       "      <td>0</td>\n",
       "      <td>0</td>\n",
       "      <td>0</td>\n",
       "      <td>0</td>\n",
       "      <td>0</td>\n",
       "      <td>0</td>\n",
       "      <td>0</td>\n",
       "      <td>0</td>\n",
       "    </tr>\n",
       "    <tr>\n",
       "      <th>B006GWO7UA</th>\n",
       "      <td>0</td>\n",
       "      <td>0</td>\n",
       "      <td>0</td>\n",
       "      <td>0</td>\n",
       "      <td>0</td>\n",
       "      <td>0</td>\n",
       "      <td>0</td>\n",
       "      <td>0</td>\n",
       "      <td>0</td>\n",
       "      <td>0</td>\n",
       "      <td>...</td>\n",
       "      <td>0</td>\n",
       "      <td>0</td>\n",
       "      <td>0</td>\n",
       "      <td>0</td>\n",
       "      <td>0</td>\n",
       "      <td>0</td>\n",
       "      <td>0</td>\n",
       "      <td>0</td>\n",
       "      <td>0</td>\n",
       "      <td>0</td>\n",
       "    </tr>\n",
       "  </tbody>\n",
       "</table>\n",
       "<p>5 rows × 16268 columns</p>\n",
       "</div>"
      ],
      "text/plain": [
       "user                              000G  00Gambler  1000011  10100915  1029cr  \\\n",
       "product_id                                                                     \n",
       "B0002LCUZK,B010CEC6MI,B01B25NN64     0          0        0         0       0   \n",
       "B001NIZB5M                           0          0        0         0       0   \n",
       "B005OOKNP4                           0          0        0         0       0   \n",
       "B006BGZJJ4                           0          0        0         0       0   \n",
       "B006GWO7UA                           0          0        0         0       0   \n",
       "\n",
       "user                              1098  118001  1191946  11bee  1215  ...  \\\n",
       "product_id                                                            ...   \n",
       "B0002LCUZK,B010CEC6MI,B01B25NN64     0       0        0      0     0  ...   \n",
       "B001NIZB5M                           0       0        0      0     0  ...   \n",
       "B005OOKNP4                           0       0        0      0     0  ...   \n",
       "B006BGZJJ4                           0       0        0      0     0  ...   \n",
       "B006GWO7UA                           0       0        0      0     0  ...   \n",
       "\n",
       "user                              zRoyals  zackeemom  zane1222  zedog83  zeke  \\\n",
       "product_id                                                                      \n",
       "B0002LCUZK,B010CEC6MI,B01B25NN64        0          0         0        0     0   \n",
       "B001NIZB5M                              0          0         0        0     0   \n",
       "B005OOKNP4                              0          0         0        0     0   \n",
       "B006BGZJJ4                              0          0         0        0     0   \n",
       "B006GWO7UA                              0          0         0        0     0   \n",
       "\n",
       "user                              zerosky  zetyk  ziggy24  zmax192  ztlbxx  \n",
       "product_id                                                                  \n",
       "B0002LCUZK,B010CEC6MI,B01B25NN64        0      0        0        0       0  \n",
       "B001NIZB5M                              0      0        0        0       0  \n",
       "B005OOKNP4                              0      0        0        0       0  \n",
       "B006BGZJJ4                              0      0        0        0       0  \n",
       "B006GWO7UA                              0      0        0        0       0  \n",
       "\n",
       "[5 rows x 16268 columns]"
      ]
     },
     "execution_count": 22,
     "metadata": {},
     "output_type": "execute_result"
    }
   ],
   "source": [
    "product_user_ratings = data.pivot_table(values='rating', index='product_id', columns='user', fill_value=0)\n",
    "product_user_ratings.head()"
   ]
  },
  {
   "cell_type": "code",
   "execution_count": 23,
   "metadata": {},
   "outputs": [],
   "source": [
    "product_data = data[['product_name', 'product_id']].drop_duplicates(ignore_index=True)\n",
    "product_data.columns = ['name', 'id']"
   ]
  },
  {
   "cell_type": "markdown",
   "metadata": {},
   "source": [
    "### Utility Data Structures"
   ]
  },
  {
   "cell_type": "markdown",
   "metadata": {},
   "source": [
    "##### Mapping from Product ID to Product Name"
   ]
  },
  {
   "cell_type": "code",
   "execution_count": 24,
   "metadata": {},
   "outputs": [
    {
     "data": {
      "text/plain": [
       "{'B00QWO9P0O,B00LH3DMUO': {'name': 'AmazonBasics AAA Performance Alkaline Batteries (36 Count)'},\n",
       " 'B00DIHVMEA,B00EZ1ZTV0': {'name': 'AmazonBasics Nylon CD/DVD Binder (400 Capacity)'},\n",
       " 'B01E6AO69U,B00L9EPT8O': {'name': 'Amazon Echo ‚Äì White'},\n",
       " 'B01J24C0TI': {'name': 'Amazon Echo Show - Black'},\n",
       " 'B073SQYXTW': {'name': 'Echo Spot Pair Kit (Black)'}}"
      ]
     },
     "execution_count": 24,
     "metadata": {},
     "output_type": "execute_result"
    }
   ],
   "source": [
    "product_id_name = product_data.set_index('id')\n",
    "product_id_name = product_id_name.to_dict(orient='index')\n",
    "\n",
    "{k: product_id_name[k] for k in list(product_id_name.keys())[:5]}"
   ]
  },
  {
   "cell_type": "markdown",
   "metadata": {},
   "source": [
    "##### Mapping from Product Name to Product ID"
   ]
  },
  {
   "cell_type": "code",
   "execution_count": 25,
   "metadata": {},
   "outputs": [
    {
     "data": {
      "text/plain": [
       "{'AmazonBasics AAA Performance Alkaline Batteries (36 Count)': {'id': 'B00QWO9P0O,B00LH3DMUO'},\n",
       " 'AmazonBasics Nylon CD/DVD Binder (400 Capacity)': {'id': 'B00DIHVMEA,B00EZ1ZTV0'},\n",
       " 'Amazon Echo ‚Äì White': {'id': 'B01E6AO69U,B00L9EPT8O'},\n",
       " 'Amazon Echo Show - Black': {'id': 'B01J24C0TI'},\n",
       " 'Echo Spot Pair Kit (Black)': {'id': 'B073SQYXTW'}}"
      ]
     },
     "execution_count": 25,
     "metadata": {},
     "output_type": "execute_result"
    }
   ],
   "source": [
    "product_name_id = product_data.set_index('name')\n",
    "product_name_id = product_name_id.to_dict(orient='index')\n",
    "\n",
    "{k: product_name_id[k] for k in list(product_name_id.keys())[:5]}"
   ]
  },
  {
   "cell_type": "markdown",
   "metadata": {},
   "source": [
    "##### Product IDs according to order of the Ratings Matrix"
   ]
  },
  {
   "cell_type": "code",
   "execution_count": 26,
   "metadata": {},
   "outputs": [
    {
     "data": {
      "text/plain": [
       "['B0002LCUZK,B010CEC6MI,B01B25NN64',\n",
       " 'B001NIZB5M',\n",
       " 'B005OOKNP4',\n",
       " 'B006BGZJJ4',\n",
       " 'B006GWO7UA']"
      ]
     },
     "execution_count": 26,
     "metadata": {},
     "output_type": "execute_result"
    }
   ],
   "source": [
    "product_ids = list(product_user_ratings.index)\n",
    "product_ids[:5]"
   ]
  },
  {
   "cell_type": "markdown",
   "metadata": {},
   "source": [
    "### Generate Correlation Matrix using Truncated SVD"
   ]
  },
  {
   "cell_type": "code",
   "execution_count": 27,
   "metadata": {},
   "outputs": [
    {
     "data": {
      "text/plain": [
       "array([[ 1.        ,  0.31908137, -0.99542183, ..., -0.27299795,\n",
       "        -0.26846796,  0.57129568],\n",
       "       [ 0.31908137,  1.        , -0.33189662, ...,  0.4202831 ,\n",
       "         0.54837485, -0.11787916],\n",
       "       [-0.99542183, -0.33189662,  1.        , ...,  0.32520959,\n",
       "         0.30660459, -0.54810334],\n",
       "       ...,\n",
       "       [-0.27299795,  0.4202831 ,  0.32520959, ...,  1.        ,\n",
       "         0.96130291, -0.33966684],\n",
       "       [-0.26846796,  0.54837485,  0.30660459, ...,  0.96130291,\n",
       "         1.        , -0.44970679],\n",
       "       [ 0.57129568, -0.11787916, -0.54810334, ..., -0.33966684,\n",
       "        -0.44970679,  1.        ]])"
      ]
     },
     "execution_count": 27,
     "metadata": {},
     "output_type": "execute_result"
    }
   ],
   "source": [
    "svd = TruncatedSVD(n_components=10)\n",
    "decomposed_matrix = svd.fit_transform(product_user_ratings)\n",
    "correlation_matrix = np.corrcoef(decomposed_matrix)\n",
    "correlation_matrix"
   ]
  },
  {
   "cell_type": "markdown",
   "metadata": {},
   "source": [
    "#### Recommendation Function"
   ]
  },
  {
   "cell_type": "code",
   "execution_count": 28,
   "metadata": {},
   "outputs": [],
   "source": [
    "def show_recommended_products(product_name, product_count=15):\n",
    "    # Getting product index from name\n",
    "    product_id = product_name_id[product_name]['id']\n",
    "    i = product_ids.index(product_id)\n",
    "\n",
    "    # Correlation coefficients of the product\n",
    "    coefs = correlation_matrix[i]\n",
    "\n",
    "    # Collecting data of the products\n",
    "    rec_ids, rec_coeffs, rec_names = [], [], []\n",
    "    for i, coef in enumerate(coefs):\n",
    "        if product_user_ratings.index[i] != product_id:\n",
    "            rec_ids.append(product_user_ratings.index[i])\n",
    "            rec_coeffs.append(coef)\n",
    "            rec_names.append(product_id_name[product_user_ratings.index[i]]['name'])\n",
    "    related_products_info = {'product_id': rec_ids, 'product_name': rec_names, 'correlation_coefficient': rec_coeffs}\n",
    "    related_products_df = pd.DataFrame(related_products_info)\n",
    "\n",
    "    # Sorting recommendations on the basis of coefficients      \n",
    "    related_products_df = related_products_df.sort_values(by='correlation_coefficient', ascending=False)\n",
    "    recommended_products_df = related_products_df.iloc[:product_count]\n",
    "    \n",
    "    return recommended_products_df"
   ]
  },
  {
   "cell_type": "markdown",
   "metadata": {},
   "source": [
    "#### Demonstration"
   ]
  },
  {
   "cell_type": "code",
   "execution_count": 29,
   "metadata": {},
   "outputs": [
    {
     "data": {
      "text/html": [
       "<div>\n",
       "<style scoped>\n",
       "    .dataframe tbody tr th:only-of-type {\n",
       "        vertical-align: middle;\n",
       "    }\n",
       "\n",
       "    .dataframe tbody tr th {\n",
       "        vertical-align: top;\n",
       "    }\n",
       "\n",
       "    .dataframe thead th {\n",
       "        text-align: right;\n",
       "    }\n",
       "</style>\n",
       "<table border=\"1\" class=\"dataframe\">\n",
       "  <thead>\n",
       "    <tr style=\"text-align: right;\">\n",
       "      <th></th>\n",
       "      <th>product_id</th>\n",
       "      <th>product_name</th>\n",
       "      <th>correlation_coefficient</th>\n",
       "    </tr>\n",
       "  </thead>\n",
       "  <tbody>\n",
       "    <tr>\n",
       "      <th>11</th>\n",
       "      <td>B00IOY8XWQ</td>\n",
       "      <td>Kindle Voyage E-reader, 6 High-Resolution Disp...</td>\n",
       "      <td>0.879527</td>\n",
       "    </tr>\n",
       "    <tr>\n",
       "      <th>48</th>\n",
       "      <td>B01GAGYVU2</td>\n",
       "      <td>Certified Refurbished Amazon Echo</td>\n",
       "      <td>0.794186</td>\n",
       "    </tr>\n",
       "    <tr>\n",
       "      <th>22</th>\n",
       "      <td>B00VINDBJK</td>\n",
       "      <td>Kindle Oasis E-reader with Leather Charging Co...</td>\n",
       "      <td>0.765113</td>\n",
       "    </tr>\n",
       "    <tr>\n",
       "      <th>5</th>\n",
       "      <td>B006LW0W5Y</td>\n",
       "      <td>AmazonBasics 16-Gauge Speaker Wire - 100 Feet</td>\n",
       "      <td>0.748736</td>\n",
       "    </tr>\n",
       "    <tr>\n",
       "      <th>20</th>\n",
       "      <td>B00REQKWGA</td>\n",
       "      <td>Kindle Oasis E-reader with Leather Charging Co...</td>\n",
       "      <td>0.726771</td>\n",
       "    </tr>\n",
       "    <tr>\n",
       "      <th>26</th>\n",
       "      <td>B00ZS0G0PG</td>\n",
       "      <td>Kindle Oasis E-reader with Leather Charging Co...</td>\n",
       "      <td>0.723863</td>\n",
       "    </tr>\n",
       "    <tr>\n",
       "      <th>10</th>\n",
       "      <td>B00F5CKWBA,B00KPQCWAU</td>\n",
       "      <td>AmazonBasics External Hard Drive Case</td>\n",
       "      <td>0.711281</td>\n",
       "    </tr>\n",
       "    <tr>\n",
       "      <th>56</th>\n",
       "      <td>B01L7XWEQQ</td>\n",
       "      <td>AmazonBasics Silicone Hot Handle Cover/Holder ...</td>\n",
       "      <td>0.690595</td>\n",
       "    </tr>\n",
       "    <tr>\n",
       "      <th>2</th>\n",
       "      <td>B005OOKNP4</td>\n",
       "      <td>AmazonBasics Bluetooth Keyboard for Android De...</td>\n",
       "      <td>0.669631</td>\n",
       "    </tr>\n",
       "    <tr>\n",
       "      <th>58</th>\n",
       "      <td>B06XCWLL12</td>\n",
       "      <td>All-New Kindle Oasis E-reader - 7 High-Resolut...</td>\n",
       "      <td>0.644734</td>\n",
       "    </tr>\n",
       "    <tr>\n",
       "      <th>4</th>\n",
       "      <td>B006GWO7UA</td>\n",
       "      <td>Kindle PowerFast International Charging Kit (f...</td>\n",
       "      <td>0.624970</td>\n",
       "    </tr>\n",
       "    <tr>\n",
       "      <th>14</th>\n",
       "      <td>B00OP6SMCI</td>\n",
       "      <td>Two Door Top Load Pet Kennel Travel Crate Dog ...</td>\n",
       "      <td>0.611595</td>\n",
       "    </tr>\n",
       "    <tr>\n",
       "      <th>6</th>\n",
       "      <td>B00BGIQS1A</td>\n",
       "      <td>Oem Amazon Kindle Power Usb Adapter Wall Trave...</td>\n",
       "      <td>0.607174</td>\n",
       "    </tr>\n",
       "    <tr>\n",
       "      <th>17</th>\n",
       "      <td>B00QFQRELG</td>\n",
       "      <td>Amazon 9W PowerFast Official OEM USB Charger a...</td>\n",
       "      <td>0.581932</td>\n",
       "    </tr>\n",
       "    <tr>\n",
       "      <th>28</th>\n",
       "      <td>B00ZV9RDKK</td>\n",
       "      <td>Fire TV Stick Streaming Media Player Pair Kit</td>\n",
       "      <td>0.536185</td>\n",
       "    </tr>\n",
       "  </tbody>\n",
       "</table>\n",
       "</div>"
      ],
      "text/plain": [
       "               product_id                                       product_name  \\\n",
       "11             B00IOY8XWQ  Kindle Voyage E-reader, 6 High-Resolution Disp...   \n",
       "48             B01GAGYVU2                  Certified Refurbished Amazon Echo   \n",
       "22             B00VINDBJK  Kindle Oasis E-reader with Leather Charging Co...   \n",
       "5              B006LW0W5Y      AmazonBasics 16-Gauge Speaker Wire - 100 Feet   \n",
       "20             B00REQKWGA  Kindle Oasis E-reader with Leather Charging Co...   \n",
       "26             B00ZS0G0PG  Kindle Oasis E-reader with Leather Charging Co...   \n",
       "10  B00F5CKWBA,B00KPQCWAU              AmazonBasics External Hard Drive Case   \n",
       "56             B01L7XWEQQ  AmazonBasics Silicone Hot Handle Cover/Holder ...   \n",
       "2              B005OOKNP4  AmazonBasics Bluetooth Keyboard for Android De...   \n",
       "58             B06XCWLL12  All-New Kindle Oasis E-reader - 7 High-Resolut...   \n",
       "4              B006GWO7UA  Kindle PowerFast International Charging Kit (f...   \n",
       "14             B00OP6SMCI  Two Door Top Load Pet Kennel Travel Crate Dog ...   \n",
       "6              B00BGIQS1A  Oem Amazon Kindle Power Usb Adapter Wall Trave...   \n",
       "17             B00QFQRELG  Amazon 9W PowerFast Official OEM USB Charger a...   \n",
       "28             B00ZV9RDKK      Fire TV Stick Streaming Media Player Pair Kit   \n",
       "\n",
       "    correlation_coefficient  \n",
       "11                 0.879527  \n",
       "48                 0.794186  \n",
       "22                 0.765113  \n",
       "5                  0.748736  \n",
       "20                 0.726771  \n",
       "26                 0.723863  \n",
       "10                 0.711281  \n",
       "56                 0.690595  \n",
       "2                  0.669631  \n",
       "58                 0.644734  \n",
       "4                  0.624970  \n",
       "14                 0.611595  \n",
       "6                  0.607174  \n",
       "17                 0.581932  \n",
       "28                 0.536185  "
      ]
     },
     "execution_count": 29,
     "metadata": {},
     "output_type": "execute_result"
    }
   ],
   "source": [
    "show_recommended_products('Echo Dot (Previous generation)')"
   ]
  },
  {
   "cell_type": "markdown",
   "metadata": {},
   "source": [
    "#### Saving Correlation Matrix"
   ]
  },
  {
   "cell_type": "code",
   "execution_count": 30,
   "metadata": {},
   "outputs": [
    {
     "data": {
      "text/plain": [
       "['Outputs/Collaborative Filtering Id Product Mapping.csv']"
      ]
     },
     "execution_count": 30,
     "metadata": {},
     "output_type": "execute_result"
    }
   ],
   "source": [
    "joblib.dump(correlation_matrix, 'Outputs/Collaborative Filtering Correlation Matrix.csv')\n",
    "joblib.dump(product_ids, 'Outputs/Collaborative Filtering Product Ids.csv')\n",
    "joblib.dump(product_name_id, 'Outputs/Collaborative Filtering Product Id Mapping.csv')\n",
    "joblib.dump(product_id_name, 'Outputs/Collaborative Filtering Id Product Mapping.csv')"
   ]
  }
 ],
 "metadata": {
  "kernelspec": {
   "display_name": "env",
   "language": "python",
   "name": "python3"
  },
  "language_info": {
   "codemirror_mode": {
    "name": "ipython",
    "version": 3
   },
   "file_extension": ".py",
   "mimetype": "text/x-python",
   "name": "python",
   "nbconvert_exporter": "python",
   "pygments_lexer": "ipython3",
   "version": "3.9.13"
  },
  "orig_nbformat": 4
 },
 "nbformat": 4,
 "nbformat_minor": 2
}
